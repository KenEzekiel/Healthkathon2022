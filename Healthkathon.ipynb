{
  "cells": [
    {
      "cell_type": "markdown",
      "metadata": {
        "colab_type": "text",
        "id": "view-in-github"
      },
      "source": [
        "<a href=\"https://colab.research.google.com/github/KenEzekiel/Healthkathon2022/blob/main/Healthkathon.ipynb\" target=\"_parent\"><img src=\"https://colab.research.google.com/assets/colab-badge.svg\" alt=\"Open In Colab\"/></a>"
      ]
    },
    {
      "cell_type": "markdown",
      "metadata": {
        "id": "D6a6b2llQ9sh"
      },
      "source": [
        "# **Healthkathon Notebook**\n",
        "\n",
        "\n",
        "---\n",
        "\n",
        "\n",
        "\n",
        "\n",
        "\n"
      ]
    },
    {
      "cell_type": "markdown",
      "metadata": {
        "id": "B49DwdNjVmjd"
      },
      "source": [
        "\n",
        "### **Table of Contents**\n",
        "\n",
        "\n",
        "---\n",
        "\n",
        "\n",
        "1. Data Preparation\n",
        "2. Data Cleansing\n",
        "3. Exploratory Data Analysis\n",
        "4. Feature Engineering\n",
        "5. Modelling\n",
        "6. Evaluation"
      ]
    },
    {
      "cell_type": "markdown",
      "metadata": {
        "id": "zdN_9yw8VvTV"
      },
      "source": [
        "### **Dependencies**"
      ]
    },
    {
      "cell_type": "code",
      "execution_count": null,
      "metadata": {
        "id": "8vXzzqalQho7"
      },
      "outputs": [],
      "source": [
        "# Import Library\n",
        "import numpy as np\n",
        "import pandas as pd\n",
        "import matplotlib.pyplot as plt\n",
        "from matplotlib import rcParams\n",
        "import seaborn as sns\n",
        "import scipy.stats as stats"
      ]
    },
    {
      "cell_type": "code",
      "execution_count": null,
      "metadata": {
        "id": "cCRz1lBfUSV-"
      },
      "outputs": [],
      "source": []
    },
    {
      "cell_type": "markdown",
      "metadata": {
        "id": "bA-g31xYV7EU"
      },
      "source": [
        "## **1. Data Preparation**\n",
        "\n",
        "\n",
        "---\n",
        "\n"
      ]
    },
    {
      "cell_type": "code",
      "execution_count": null,
      "metadata": {
        "id": "EjQF8Ne8YEdb"
      },
      "outputs": [],
      "source": [
        "\n",
        "# Merging 3 DataFrame\n",
        "\n",
        "df1 = pd.read_csv('/content/drive/MyDrive/Colab Notebooks/healthkaton/sampling_healthkathon2022_diagnosa/sampling_healthkathon2022_diagnosa.csv')\n",
        "df2 = pd.read_csv('/content/drive/MyDrive/Colab Notebooks/healthkaton/sampling_healthkathon2022_procedure/sampling_healthkathon2022_procedure.csv')\n",
        "df3 = pd.read_csv('/content/drive/MyDrive/Colab Notebooks/healthkaton/sampling_healtkathon2022/sampling_healtkathon2022.csv')\n",
        "\n",
        "df = df1.merge(df2,on='id').merge(df3,on='id')\n",
        "\n"
      ]
    },
    {
      "cell_type": "code",
      "execution_count": null,
      "metadata": {
        "colab": {
          "base_uri": "https://localhost:8080/"
        },
        "id": "WyWrBrqqZzNd",
        "outputId": "f4bbd814-542f-46d6-980e-c528d2439732"
      },
      "outputs": [
        {
          "name": "stdout",
          "output_type": "stream",
          "text": [
            "<class 'pandas.core.frame.DataFrame'>\n",
            "Int64Index: 92176427 entries, 0 to 92176426\n",
            "Data columns (total 5 columns):\n",
            " #   Column   Dtype \n",
            "---  ------   ----- \n",
            " 0   id       int64 \n",
            " 1   diag     object\n",
            " 2   levelid  int64 \n",
            " 3   proc_x   object\n",
            " 4   proc_y   object\n",
            "dtypes: int64(2), object(3)\n",
            "memory usage: 4.1+ GB\n"
          ]
        }
      ],
      "source": [
        "df.info()"
      ]
    },
    {
      "cell_type": "markdown",
      "metadata": {
        "id": "b1BJ3gDIW0eN"
      },
      "source": [
        "## **2. Data Cleansing**\n",
        "\n",
        "\n",
        "---\n",
        "\n"
      ]
    },
    {
      "cell_type": "markdown",
      "metadata": {
        "id": "80ovu8rDW6W0"
      },
      "source": [
        "## **3. Exploratory Data Analysis**\n",
        "\n",
        "\n",
        "---\n",
        "\n"
      ]
    },
    {
      "cell_type": "markdown",
      "metadata": {
        "id": "HvYPMX8YXA70"
      },
      "source": [
        "## **4. Feature Engineering**\n",
        "\n",
        "\n",
        "---\n",
        "\n"
      ]
    },
    {
      "cell_type": "markdown",
      "metadata": {
        "id": "iGwDDKR8XHFc"
      },
      "source": [
        "## **5. Modelling**\n",
        "\n",
        "\n",
        "---\n",
        "\n"
      ]
    },
    {
      "cell_type": "markdown",
      "metadata": {
        "id": "UrNrmPuBXLrs"
      },
      "source": [
        "## **6. Evaluation**\n",
        "\n",
        "\n",
        "---\n",
        "\n"
      ]
    }
  ],
  "metadata": {
    "colab": {
      "collapsed_sections": [],
      "include_colab_link": true,
      "provenance": []
    },
    "kernelspec": {
      "display_name": "Python 3",
      "name": "python3"
    },
    "language_info": {
      "name": "python"
    }
  },
  "nbformat": 4,
  "nbformat_minor": 0
}
